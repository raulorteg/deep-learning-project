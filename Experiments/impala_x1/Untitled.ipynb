{
 "cells": [
  {
   "cell_type": "code",
   "execution_count": 5,
   "metadata": {},
   "outputs": [],
   "source": [
    "import plotly.graph_objects as go\n",
    "import pandas as pd\n",
    "\n",
    "impax1 = pd.read_csv(\"training_data_IMPALAx1.csv\")\n",
    "impax2 = pd.read_csv(\"../impala_x2/training_data_IMPALAx2.csv\")\n",
    "impax4 = pd.read_csv(\"../impala_x4/training_data_IMPALAx4.csv\")\n",
    "nature = pd.read_csv(\"../nature_dqn/training_data_IMPALAx1.csv\")\n",
    "\n",
    "fig = go.Figure()\n",
    "fig.add_trace(go.Scatter(x=impax1[\"steps\"], y=impax1[\"rewards\"],\n",
    "                    mode='lines',\n",
    "                    name='IMPALA x1'))\n",
    "fig.add_trace(go.Scatter(x=impax2[\"steps\"], y=impax2[\"rewards\"],\n",
    "                    mode='lines',\n",
    "                    name='IMPALA x2'))\n",
    "fig.add_trace(go.Scatter(x=impax4[\"steps\"], y=impax4[\"rewards\"],\n",
    "                    mode='lines',\n",
    "                    name='IMPALA x4'))\n",
    "fig.add_trace(go.Scatter(x=impax1[\"steps\"], y=impax1[\"rewards\"],\n",
    "                    mode='lines',\n",
    "                    name='Nature CNN'))\n",
    "\n",
    "fig.show()"
   ]
  },
  {
   "cell_type": "code",
   "execution_count": null,
   "metadata": {},
   "outputs": [],
   "source": []
  }
 ],
 "metadata": {
  "kernelspec": {
   "display_name": "Python 3",
   "language": "python",
   "name": "python3"
  },
  "language_info": {
   "codemirror_mode": {
    "name": "ipython",
    "version": 3
   },
   "file_extension": ".py",
   "mimetype": "text/x-python",
   "name": "python",
   "nbconvert_exporter": "python",
   "pygments_lexer": "ipython3",
   "version": "3.8.3"
  }
 },
 "nbformat": 4,
 "nbformat_minor": 4
}
